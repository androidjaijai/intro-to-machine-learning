{
 "cells": [
  {
   "cell_type": "markdown",
   "metadata": {},
   "source": [
    "# Intro to Machine Learning in Python\n",
    "\n",
    "This guide covers the very basics of running machine learning algorithms in Python. \n"
   ]
  },
  {
   "cell_type": "markdown",
   "metadata": {},
   "source": [
    "## Assumptions\n",
    "\n",
    "This guide assumes you are using [CSV files](https://en.wikipedia.org/wiki/Comma-separated_values) for your data. Using files of different structured types is made easy with `pandas` (which we are using), but is beyond the scope of this guide.\n",
    "\n",
    "It is also assumed that you already understand the terminology around machine learning. If you are comfortable with the following terms:\n",
    "\n",
    "* table\n",
    "* row\n",
    "* column\n",
    "* data frame\n",
    "* vector\n",
    "* feature\n",
    "* dependent variable\n",
    "* independent variable\n",
    "* categorical variable\n",
    "* model\n",
    "* fit\n",
    "* prediction\n",
    "\n",
    "... you will be fine. Otherwise take a look at [How To Talk About Data in Machine Learning (Terminology from Statistics and Computer Science)](https://machinelearningmastery.com/data-terminology-in-machine-learning/) for a quick primer."
   ]
  },
  {
   "cell_type": "markdown",
   "metadata": {},
   "source": [
    "## Which Python version should I use?\n",
    "\n",
    "There are two main versions of Python in use today: Python 2 and Python 3. Neither is inherently better than the other for day-to-day use, but in mainstream production systems some users are forced to use one or the other. My recommendation is this:\n",
    "\n",
    "*Use **Python 2** if any of the following are true*:\n",
    "* You know you will be shipping code to a production environment that does not support Python3.\n",
    "* You are using a specific library that is only available in Python 2.\n",
    "\n",
    "Otherwise, use Python 3.\n",
    "\n",
    "All examples in this document are in Python 3, but the Python 2 versions are almost identical."
   ]
  },
  {
   "cell_type": "markdown",
   "metadata": {},
   "source": [
    "## The basic pattern\n",
    "\n",
    "The most simple pattern to use for machine learning is:\n",
    "\n",
    "1. **Ingest**: import the data into a local data structure\n",
    "1. **Groom**: modify the data into some schema\n",
    "1. **Split**: break the data into a training set and a testing set\n",
    "1. **Select**: pick an algorithm apporpriate for the data and the situation\n",
    "1. **Fit**: build a model of the data using the selected algorithm\n",
    "1. **Predict**: compute new results from the model\n",
    "1. **Display**: show a range of predictions from the model"
   ]
  },
  {
   "cell_type": "markdown",
   "metadata": {},
   "source": [
    "## Libraries\n",
    "\n",
    "This guide uses:\n",
    "\n",
    "* `sklearn` for all machine learning algorithms\n",
    "* `scipy` to handle some of the under-the-hood workings of `sklearn`\n",
    "* `pandas` to help import and groom data\n",
    "* `matplotlib` for displaying graphical representations of the output\n",
    "\n",
    "You will need to install them on your computer first:\n",
    "\n",
    "```bash\n",
    "$ pip install sklearn scipy pandas matplotlib\n",
    "```\n",
    "\n",
    "Then just import them in the normal way:\n",
    "\n",
    "```python\n",
    "import pandas as pd\n",
    "import sklearn\n",
    "```"
   ]
  },
  {
   "cell_type": "code",
   "execution_count": 2,
   "metadata": {},
   "outputs": [
    {
     "data": {
      "text/plain": [
       "True"
      ]
     },
     "execution_count": 2,
     "metadata": {},
     "output_type": "execute_result"
    }
   ],
   "source": [
    "import pandas as pd\n",
    "import sklearn"
   ]
  },
  {
   "cell_type": "markdown",
   "metadata": {},
   "source": [
    "## Ingest\n",
    "\n",
    "Loading a CSV file is easy with `pandas`:\n",
    "\n",
    "```python\n",
    "dataset = pd.read_csv(filename)\n",
    "```\n",
    "\n",
    "`dataset` is now a data frame containing the full contents of your input file and with smart assumptions about the types of values in each column."
   ]
  },
  {
   "cell_type": "code",
   "execution_count": 10,
   "metadata": {},
   "outputs": [
    {
     "data": {
      "text/html": [
       "<div>\n",
       "<style>\n",
       "    .dataframe thead tr:only-child th {\n",
       "        text-align: right;\n",
       "    }\n",
       "\n",
       "    .dataframe thead th {\n",
       "        text-align: left;\n",
       "    }\n",
       "\n",
       "    .dataframe tbody tr th {\n",
       "        vertical-align: top;\n",
       "    }\n",
       "</style>\n",
       "<table border=\"1\" class=\"dataframe\">\n",
       "  <thead>\n",
       "    <tr style=\"text-align: right;\">\n",
       "      <th></th>\n",
       "      <th>YearsExperience</th>\n",
       "      <th>Salary</th>\n",
       "    </tr>\n",
       "  </thead>\n",
       "  <tbody>\n",
       "    <tr>\n",
       "      <th>0</th>\n",
       "      <td>1.1</td>\n",
       "      <td>39343.0</td>\n",
       "    </tr>\n",
       "    <tr>\n",
       "      <th>1</th>\n",
       "      <td>1.3</td>\n",
       "      <td>46205.0</td>\n",
       "    </tr>\n",
       "    <tr>\n",
       "      <th>2</th>\n",
       "      <td>1.5</td>\n",
       "      <td>37731.0</td>\n",
       "    </tr>\n",
       "    <tr>\n",
       "      <th>3</th>\n",
       "      <td>2.0</td>\n",
       "      <td>43525.0</td>\n",
       "    </tr>\n",
       "    <tr>\n",
       "      <th>4</th>\n",
       "      <td>2.2</td>\n",
       "      <td>39891.0</td>\n",
       "    </tr>\n",
       "  </tbody>\n",
       "</table>\n",
       "</div>"
      ],
      "text/plain": [
       "   YearsExperience   Salary\n",
       "0              1.1  39343.0\n",
       "1              1.3  46205.0\n",
       "2              1.5  37731.0\n",
       "3              2.0  43525.0\n",
       "4              2.2  39891.0"
      ]
     },
     "execution_count": 10,
     "metadata": {},
     "output_type": "execute_result"
    }
   ],
   "source": [
    "dataset = pd.read_csv('data.csv')\n",
    "\n",
    "dataset.head()"
   ]
  },
  {
   "cell_type": "markdown",
   "metadata": {},
   "source": [
    "## Groom\n",
    "\n",
    "### Dependent and independent variables\n",
    "\n",
    "For any learning algorithm to work, data needs to be broken into the table of data that represents the independent variables and a column that represents the dependent variables. If you are using all columns of your frame, and if the last column is the dependent variable and the other colums are your dependent variables, then you just need to do this:\n",
    "\n",
    "```python\n",
    "X = dataset.iloc[:, :-1].values\n",
    "y = dataset.iloc[:, -1].values\n",
    "```\n",
    "\n",
    "`pandas` makes it very simple to re-build your table in a variety of ways and to extract just the colums you want or need for your specific purpose. For instance, if you *only* wanted columns two and three as independent variables, and if your dependent variable was in column 0, then the above could be re-written as:\n",
    "\n",
    "```python\n",
    "X = dataset.iloc[:, 2:4].values\n",
    "y = dataset.iloc[:, 0].values\n",
    "```\n",
    "\n",
    "### Missing data\n",
    "\n",
    "Sometimes your frame will not have all the data you need. One simple way to handle this is to **impute** (guess) the missing values\n",
    "\n",
    "```python\n",
    "range = [2, 5]  # the bounds of columns to use\n",
    "imputer = sklearn.Imputer(missing_values='NaN', strategy='mean', axis=0)\n",
    "imputer = imputer.fit(X[:, range[0]:range[1]])\n",
    "X = X[:, range[0]:range[1]] = imputer.transform(X[:, range[0]:range[1]])\n",
    "```\n",
    "\n",
    "For our example there is no missing data.\n",
    "\n",
    "### Categorical data\n",
    "\n",
    "Sometimes a column in your frame is meant to be considered categorical.\n",
    "\n",
    "If the independent variables contain a categorical column, fix it like this:\n",
    "\n",
    "```python\n",
    "index = 3  # the column to change to categorical\n",
    "label_encoder = sklearn.LabelEncoder()\n",
    "X[:, index] = label_encoder.fit_transform(X[:, index])\n",
    "one_hot_encoder = sklearn.OneHotEncoder(categorical_features=[index])\n",
    "X = one_hot_encoder.fit_transform(X).toarray()\n",
    "```\n",
    "\n",
    "If the dependent variable is categorical, fix it like this:\n",
    "\n",
    "```python\n",
    "label_encoder = sklearn.LabelEncoder()\n",
    "y = label_encoder.fit_transform(y)\n",
    "```\n",
    "\n",
    "For our example there is no categorical data."
   ]
  },
  {
   "cell_type": "code",
   "execution_count": 15,
   "metadata": {},
   "outputs": [],
   "source": [
    "X = dataset.iloc[:, :-1].values\n",
    "y = dataset.iloc[:, -1].values"
   ]
  },
  {
   "cell_type": "markdown",
   "metadata": {},
   "source": [
    "## Split"
   ]
  },
  {
   "cell_type": "markdown",
   "metadata": {},
   "source": [
    "## Select"
   ]
  },
  {
   "cell_type": "markdown",
   "metadata": {},
   "source": [
    "## Fit"
   ]
  },
  {
   "cell_type": "markdown",
   "metadata": {},
   "source": [
    "## Predict"
   ]
  },
  {
   "cell_type": "markdown",
   "metadata": {},
   "source": [
    "## Display"
   ]
  },
  {
   "cell_type": "markdown",
   "metadata": {},
   "source": [
    "## References\n",
    "\n",
    "* [Machine Learning A-Z™: Hands-On Python & R](https://www.udemy.com/machinelearning/learn/v4/overview)\n",
    "  * Most of the code in this repo was inspired by what I learned in that course. I have adapted it heavily for easier re-use and readability.\n",
    "\n",
    "* [How To Talk About Data in Machine Learning (Terminology from Statistics and Computer Science)](https://machinelearningmastery.com/data-terminology-in-machine-learning/)\n",
    "\n",
    "* [pandas](http://pandas.pydata.org/)\n",
    "\n",
    "* [SciKit-Learn (`sklearn`)](http://scikit-learn.org/)\n",
    "\n",
    "* [MatPlotLib](https://matplotlib.org/)\n"
   ]
  },
  {
   "cell_type": "code",
   "execution_count": null,
   "metadata": {},
   "outputs": [],
   "source": []
  }
 ],
 "metadata": {
  "kernelspec": {
   "display_name": "Python 3",
   "language": "python",
   "name": "python3"
  },
  "language_info": {
   "codemirror_mode": {
    "name": "ipython",
    "version": 3
   },
   "file_extension": ".py",
   "mimetype": "text/x-python",
   "name": "python",
   "nbconvert_exporter": "python",
   "pygments_lexer": "ipython3",
   "version": "3.6.3"
  }
 },
 "nbformat": 4,
 "nbformat_minor": 2
}
