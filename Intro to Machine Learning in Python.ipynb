{
 "cells": [
  {
   "cell_type": "markdown",
   "metadata": {},
   "source": [
    "# Intro to Machine Learning in Python\n",
    "\n",
    "This guide covers the very basics of running machine learning algorithms in Python. \n"
   ]
  },
  {
   "cell_type": "markdown",
   "metadata": {},
   "source": [
    "### Which Python version should I use?\n",
    "\n",
    "There are two main versions of Python in use today: Python2 and Python3. Neither is inherently better than the other for day-to-day use, but in mainstream production systems some users are forced to use one or the other. My recommendation is this:\n",
    "\n",
    "*Use **Python2** if any of the following are true*:\n",
    "* You know you will be shipping code to a production environment that does not support Python3.\n",
    "* You are using a specific library that is only available in Python2.\n",
    "\n",
    "Otherwise, use Python 3.\n",
    "\n",
    "All examples in this document are in Python3, but the Python2 versions are almost identical."
   ]
  },
  {
   "cell_type": "code",
   "execution_count": null,
   "metadata": {},
   "outputs": [],
   "source": []
  }
 ],
 "metadata": {
  "kernelspec": {
   "display_name": "Python 3",
   "language": "python",
   "name": "python3"
  },
  "language_info": {
   "codemirror_mode": {
    "name": "ipython",
    "version": 3
   },
   "file_extension": ".py",
   "mimetype": "text/x-python",
   "name": "python",
   "nbconvert_exporter": "python",
   "pygments_lexer": "ipython3",
   "version": "3.6.3"
  }
 },
 "nbformat": 4,
 "nbformat_minor": 2
}
