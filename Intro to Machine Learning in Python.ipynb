{
 "cells": [
  {
   "cell_type": "markdown",
   "metadata": {},
   "source": [
    "# Intro to Machine Learning in Python\n",
    "\n",
    "This guide covers the very basics of running machine learning algorithms in Python. \n"
   ]
  },
  {
   "cell_type": "markdown",
   "metadata": {},
   "source": [
    "## Assumptions\n",
    "\n",
    "This guide assumes you are using [CSV files](https://en.wikipedia.org/wiki/Comma-separated_values) for your data. Using files of different structured types is made easy with `pandas` (which we are using), but is beyond the scope of this guide.\n",
    "\n",
    "It is also assumed that you already understand the terminology around machine learning. If you are comfortable with the following terms:\n",
    "\n",
    "* table\n",
    "* row\n",
    "* column\n",
    "* data frame\n",
    "* vector\n",
    "* feature\n",
    "* dependent variable\n",
    "* independent variable\n",
    "* categorical variable\n",
    "* model\n",
    "* fit\n",
    "* prediction\n",
    "\n",
    "... you will be fine. Otherwise take a look at [How To Talk About Data in Machine Learning (Terminology from Statistics and Computer Science)](https://machinelearningmastery.com/data-terminology-in-machine-learning/) for a quick primer."
   ]
  },
  {
   "cell_type": "markdown",
   "metadata": {},
   "source": [
    "## Which Python version should I use?\n",
    "\n",
    "There are two main versions of Python in use today: Python 2 and Python 3. Neither is inherently better than the other for day-to-day use, but in mainstream production systems some users are forced to use one or the other. My recommendation is this:\n",
    "\n",
    "*Use **Python 2** if any of the following are true*:\n",
    "* You know you will be shipping code to a production environment that does not support Python3.\n",
    "* You are using a specific library that is only available in Python 2.\n",
    "\n",
    "Otherwise, use Python 3.\n",
    "\n",
    "All examples in this document are in Python 3, but the Python 2 versions are almost identical."
   ]
  },
  {
   "cell_type": "markdown",
   "metadata": {},
   "source": [
    "## The basic pattern\n",
    "\n",
    "The most simple pattern to use for machine learning is:\n",
    "\n",
    "1. **Ingest**: import the data into a local data structure\n",
    "1. **Groom**: modify the data into some schema\n",
    "1. **Split**: break the data into a training set and a testing set\n",
    "1. **Select**: pick an algorithm apporpriate for the data and the situation\n",
    "1. **Fit**: build a model of the data using the selected algorithm\n",
    "1. **Predict**: compute new results from the model\n",
    "1. **Display**: show a range of predictions from the model"
   ]
  },
  {
   "cell_type": "markdown",
   "metadata": {},
   "source": [
    "## Libraries\n",
    "\n",
    "This guide uses:\n",
    "\n",
    "* `sklearn` for all machine learning algorithms\n",
    "* `scipy` to handle some of the under-the-hood workings of `sklearn`\n",
    "* `pandas` to help import and groom data\n",
    "* `matplotlib` for displaying graphical representations of the output\n",
    "\n",
    "You will need to install them on your computer first:\n",
    "\n",
    "```bash\n",
    "$ pip install sklearn scipy pandas matplotlib\n",
    "```\n",
    "\n",
    "Then just import them in the normal way:"
   ]
  },
  {
   "cell_type": "code",
   "execution_count": 1,
   "metadata": {},
   "outputs": [],
   "source": [
    "import pandas as pd\n",
    "import sklearn.model_selection\n",
    "import sklearn.linear_model\n",
    "import matplotlib.pyplot as plt"
   ]
  },
  {
   "cell_type": "markdown",
   "metadata": {},
   "source": [
    "## Ingest\n",
    "\n",
    "Loading a CSV file is easy with `pandas`:\n",
    "\n",
    "```python\n",
    "dataset = pd.read_csv(filename)\n",
    "```\n",
    "\n",
    "`dataset` is now a data frame containing the full contents of your input file and with smart assumptions about the types of values in each column."
   ]
  },
  {
   "cell_type": "code",
   "execution_count": 2,
   "metadata": {},
   "outputs": [
    {
     "data": {
      "text/html": [
       "<div>\n",
       "<style>\n",
       "    .dataframe thead tr:only-child th {\n",
       "        text-align: right;\n",
       "    }\n",
       "\n",
       "    .dataframe thead th {\n",
       "        text-align: left;\n",
       "    }\n",
       "\n",
       "    .dataframe tbody tr th {\n",
       "        vertical-align: top;\n",
       "    }\n",
       "</style>\n",
       "<table border=\"1\" class=\"dataframe\">\n",
       "  <thead>\n",
       "    <tr style=\"text-align: right;\">\n",
       "      <th></th>\n",
       "      <th>YearsExperience</th>\n",
       "      <th>Salary</th>\n",
       "    </tr>\n",
       "  </thead>\n",
       "  <tbody>\n",
       "    <tr>\n",
       "      <th>0</th>\n",
       "      <td>1.1</td>\n",
       "      <td>39343.0</td>\n",
       "    </tr>\n",
       "    <tr>\n",
       "      <th>1</th>\n",
       "      <td>1.3</td>\n",
       "      <td>46205.0</td>\n",
       "    </tr>\n",
       "    <tr>\n",
       "      <th>2</th>\n",
       "      <td>1.5</td>\n",
       "      <td>37731.0</td>\n",
       "    </tr>\n",
       "    <tr>\n",
       "      <th>3</th>\n",
       "      <td>2.0</td>\n",
       "      <td>43525.0</td>\n",
       "    </tr>\n",
       "    <tr>\n",
       "      <th>4</th>\n",
       "      <td>2.2</td>\n",
       "      <td>39891.0</td>\n",
       "    </tr>\n",
       "  </tbody>\n",
       "</table>\n",
       "</div>"
      ],
      "text/plain": [
       "   YearsExperience   Salary\n",
       "0              1.1  39343.0\n",
       "1              1.3  46205.0\n",
       "2              1.5  37731.0\n",
       "3              2.0  43525.0\n",
       "4              2.2  39891.0"
      ]
     },
     "execution_count": 2,
     "metadata": {},
     "output_type": "execute_result"
    }
   ],
   "source": [
    "dataset = pd.read_csv('data1.csv')\n",
    "dataset.head()"
   ]
  },
  {
   "cell_type": "markdown",
   "metadata": {},
   "source": [
    "## Groom\n",
    "\n",
    "### Dependent and independent variables\n",
    "\n",
    "For any learning algorithm to work, data needs to be broken into the table of data that represents the independent variables and a column that represents the dependent variables. If you are using all columns of your frame, and if the last column is the dependent variable and the other colums are your dependent variables, then you just need to do this:\n",
    "\n",
    "```python\n",
    "X = dataset.iloc[:, :-1].values\n",
    "y = dataset.iloc[:, -1].values\n",
    "```\n",
    "\n",
    "`pandas` makes it very simple to re-build your table in a variety of ways and to extract just the colums you want or need for your specific purpose. For instance, if you *only* wanted columns two and three as independent variables, and if your dependent variable was in column 0, then the above could be re-written as:\n",
    "\n",
    "```python\n",
    "X = dataset.iloc[:, 2:4].values\n",
    "y = dataset.iloc[:, 0].values\n",
    "```\n",
    "\n",
    "### Missing data\n",
    "\n",
    "Sometimes your frame will not have all the data you need. One simple way to handle this is to **impute** (guess) the missing values\n",
    "\n",
    "```python\n",
    "range = [2, 5]  # the bounds of columns to use\n",
    "imputer = sklearn.preprocessing.Imputer(missing_values='NaN', strategy='mean', axis=0)\n",
    "imputer = imputer.fit(X[:, range[0]:range[1]])\n",
    "X = X[:, range[0]:range[1]] = imputer.transform(X[:, range[0]:range[1]])\n",
    "```\n",
    "\n",
    "For our example there is no missing data.\n",
    "\n",
    "### Categorical data\n",
    "\n",
    "Sometimes a column in your frame is meant to be considered categorical.\n",
    "\n",
    "If the independent variables contain a categorical column, fix it like this:\n",
    "\n",
    "```python\n",
    "index = 3  # the column to change to categorical\n",
    "label_encoder = sklearn.preprocessing.LabelEncoder()\n",
    "X[:, index] = label_encoder.fit_transform(X[:, index])\n",
    "one_hot_encoder = sklearn.preprocessing.OneHotEncoder(categorical_features=[index])\n",
    "X = one_hot_encoder.fit_transform(X).toarray()\n",
    "```\n",
    "\n",
    "If the dependent variable is categorical, fix it like this:\n",
    "\n",
    "```python\n",
    "label_encoder = sklearn.preprocessing.LabelEncoder()\n",
    "y = label_encoder.fit_transform(y)\n",
    "```\n",
    "\n",
    "For our example there is no categorical data."
   ]
  },
  {
   "cell_type": "code",
   "execution_count": 3,
   "metadata": {},
   "outputs": [],
   "source": [
    "X = dataset.iloc[:, :-1].values\n",
    "y = dataset.iloc[:, -1].values"
   ]
  },
  {
   "cell_type": "markdown",
   "metadata": {},
   "source": [
    "## Split\n",
    "\n",
    "Your data should be split into *training* data and *testing* data. With large datasets you may also include a validation set.\n",
    "\n",
    "To split the data into two groups, with 80% of the data in the training set and 20% in the test set:"
   ]
  },
  {
   "cell_type": "code",
   "execution_count": 4,
   "metadata": {},
   "outputs": [],
   "source": [
    "test_set_size = 0.2\n",
    "seed = 0  # for repeatability while testing, should be a random number in practice\n",
    "X_train, X_test, y_train, y_test = sklearn.model_selection.train_test_split(\n",
    "    X, y,\n",
    "    test_size=test_set_size,\n",
    "    random_state=seed,\n",
    "    )"
   ]
  },
  {
   "cell_type": "markdown",
   "metadata": {},
   "source": [
    "## Select\n",
    "\n",
    "This is the step where the most decision-making needs to occur. There are many learning algorithms, each with pros and cons, and selecting the right one depends on a variety of factors:\n",
    "\n",
    "* the type of prediction being made\n",
    "* the shape of the data\n",
    "* the size of the data set\n",
    "* the significance of being slightly wrong in the predictions\n",
    "\n",
    "Luckily, most of the steps in this guide stay the same, and generally all you will need to do is choose a different algorithm here for generally similar prediction scenarios.\n",
    "\n",
    "To perform a traditional linear regression:"
   ]
  },
  {
   "cell_type": "code",
   "execution_count": 5,
   "metadata": {},
   "outputs": [],
   "source": [
    "regressor = sklearn.linear_model.LinearRegression()"
   ]
  },
  {
   "cell_type": "markdown",
   "metadata": {},
   "source": [
    "## Fit\n",
    "\n",
    "Once you've instantiated a regressor, you build a model to fit the data with a single line of code:"
   ]
  },
  {
   "cell_type": "code",
   "execution_count": 6,
   "metadata": {},
   "outputs": [
    {
     "name": "stderr",
     "output_type": "stream",
     "text": [
      "/Users/seawolf/dev/py-virtualenv/intro-to-machine-learning/lib/python3.6/site-packages/scipy/linalg/basic.py:1018: RuntimeWarning: internal gelsd driver lwork query error, required iwork dimension not returned. This is likely the result of LAPACK bug 0038, fixed in LAPACK 3.2.2 (released July 21, 2010). Falling back to 'gelss' driver.\n",
      "  warnings.warn(mesg, RuntimeWarning)\n"
     ]
    },
    {
     "data": {
      "text/plain": [
       "LinearRegression(copy_X=True, fit_intercept=True, n_jobs=1, normalize=False)"
      ]
     },
     "execution_count": 6,
     "metadata": {},
     "output_type": "execute_result"
    }
   ],
   "source": [
    "# note that this will give a RuntimeWarning the first time it's run in a clean environment\n",
    "regressor.fit(X_train, y_train)"
   ]
  },
  {
   "cell_type": "markdown",
   "metadata": {},
   "source": [
    "## Predict\n",
    "\n",
    "Now you can make predictions from the model:"
   ]
  },
  {
   "cell_type": "code",
   "execution_count": 7,
   "metadata": {},
   "outputs": [],
   "source": [
    "y_pred = regressor.predict(X_test)"
   ]
  },
  {
   "cell_type": "markdown",
   "metadata": {},
   "source": [
    "## Display\n",
    "\n",
    "Finally, to display the test data, training data, and predictions graphically:"
   ]
  },
  {
   "cell_type": "code",
   "execution_count": 8,
   "metadata": {},
   "outputs": [
    {
     "data": {
      "image/png": "[encoded data removed]",
      "text/plain": [
       "<matplotlib.figure.Figure at 0x1087f4198>"
      ]
     },
     "metadata": {},
     "output_type": "display_data"
    }
   ],
   "source": [
    "plt.scatter(X_train, y_train, color='red')\n",
    "plt.plot(X_test, y_pred, color='blue')\n",
    "plt.title('title')\n",
    "plt.xlabel('x values')\n",
    "plt.ylabel('y values')\n",
    "plt.show()"
   ]
  },
  {
   "cell_type": "markdown",
   "metadata": {},
   "source": [
    "## Putting it all together\n",
    "\n",
    "Because so many of the steps are similar for data preprocessing and display, I've created classes that handle most of the gruntwork for you:"
   ]
  },
  {
   "cell_type": "code",
   "execution_count": 9,
   "metadata": {},
   "outputs": [
    {
     "name": "stdout",
     "output_type": "stream",
     "text": [
      "prediction with simple linear regression: [ 330378.78787879]\n",
      "prediction with polynomial linear regression: [ 158862.4526515]\n"
     ]
    }
   ],
   "source": [
    "from preprocessing import preprocess\n",
    "from plotting import plot\n",
    "\n",
    "X, y, X_train, y_train, X_test, y_test = preprocess(\n",
    "    filename='data2.csv',\n",
    "    use_only_indexes=(1, -1),\n",
    "    test_set_size=0.0,\n",
    "    test_set_random_seed=0,\n",
    ")\n",
    "\n",
    "# fitting simple linear regression to the training set for comparison\n",
    "simple_regressor = sklearn.linear_model.LinearRegression()\n",
    "simple_regressor.fit(X_train, y_train)\n",
    "\n",
    "# fitting polynomial linear regression to the training set\n",
    "polynomial_features = sklearn.preprocessing.PolynomialFeatures(degree=4)\n",
    "X_train_poly = polynomial_features.fit_transform(X_train)\n",
    "polynomial_regressor = sklearn.linear_model.LinearRegression()\n",
    "polynomial_regressor.fit(X_train_poly, y_train)\n",
    "\n",
    "# predicting a new result with simple linear regression\n",
    "predicted_salary = simple_regressor.predict(6.5)\n",
    "print('prediction with simple linear regression:', predicted_salary)\n",
    "\n",
    "# predicting a new result with polynomial linear regression\n",
    "predicted_salary = polynomial_regressor.predict(\n",
    "        polynomial_features.fit_transform(6.5)\n",
    "        )\n",
    "print('prediction with polynomial linear regression:', predicted_salary)"
   ]
  },
  {
   "cell_type": "code",
   "execution_count": 10,
   "metadata": {},
   "outputs": [
    {
     "data": {
      "image/png": "[encoded data removed]",
      "text/plain": [
       "<matplotlib.figure.Figure at 0x108817278>"
      ]
     },
     "metadata": {},
     "output_type": "display_data"
    }
   ],
   "source": [
    "# visualizing the polynomial regression results\n",
    "plot(\n",
    "    polynomial_regressor,\n",
    "    X_train,\n",
    "    y_train,\n",
    "    transformer=polynomial_features.fit_transform,\n",
    "    interval=0.1,\n",
    "    title='Polynomial Linear Regression',\n",
    "    xlabel='Position Level',\n",
    "    ylabel='Salary',\n",
    "    )"
   ]
  },
  {
   "cell_type": "markdown",
   "metadata": {},
   "source": [
    "## References\n",
    "\n",
    "* [Machine Learning A-Z™: Hands-On Python & R](https://www.udemy.com/machinelearning/learn/v4/overview)\n",
    "  * Most of the code in this repo was inspired by what I learned in that course. I have adapted it heavily for easier re-use and readability.\n",
    "\n",
    "* [How To Talk About Data in Machine Learning (Terminology from Statistics and Computer Science)](https://machinelearningmastery.com/data-terminology-in-machine-learning/)\n",
    "\n",
    "* [pandas](http://pandas.pydata.org/)\n",
    "\n",
    "* [SciKit-Learn](http://scikit-learn.org/) (also known as `sklearn`)\n",
    "\n",
    "* [MatPlotLib](https://matplotlib.org/)\n"
   ]
  }
 ],
 "metadata": {
  "kernelspec": {
   "display_name": "Python 3",
   "language": "python",
   "name": "python3"
  },
  "language_info": {
   "codemirror_mode": {
    "name": "ipython",
    "version": 3
   },
   "file_extension": ".py",
   "mimetype": "text/x-python",
   "name": "python",
   "nbconvert_exporter": "python",
   "pygments_lexer": "ipython3",
   "version": "3.6.3"
  }
 },
 "nbformat": 4,
 "nbformat_minor": 2
}
